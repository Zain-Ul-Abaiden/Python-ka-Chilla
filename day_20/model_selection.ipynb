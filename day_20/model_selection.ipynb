{
 "cells": [
  {
   "cell_type": "markdown",
   "metadata": {},
   "source": [
    "# Best Model Selection"
   ]
  },
  {
   "cell_type": "code",
   "execution_count": 1,
   "metadata": {},
   "outputs": [],
   "source": [
    "# import libraries\n",
    "import pandas as pd\n",
    "import numpy as np\n",
    "import matplotlib.pyplot as plt\n",
    "import seaborn as sns\n"
   ]
  },
  {
   "cell_type": "code",
   "execution_count": 2,
   "metadata": {},
   "outputs": [
    {
     "name": "stderr",
     "output_type": "stream",
     "text": [
      "C:\\Users\\KING\\AppData\\Local\\Temp\\ipykernel_2292\\828302697.py:9: FutureWarning: A value is trying to be set on a copy of a DataFrame or Series through chained assignment using an inplace method.\n",
      "The behavior will change in pandas 3.0. This inplace method will never work because the intermediate object on which we are setting values always behaves as a copy.\n",
      "\n",
      "For example, when doing 'df[col].method(value, inplace=True)', try using 'df.method({col: value}, inplace=True)' or df[col] = df[col].method(value) instead, to perform the operation inplace on the original object.\n",
      "\n",
      "\n",
      "  X.age.fillna(value= X['age'].mean(), inplace=True)\n"
     ]
    }
   ],
   "source": [
    "# loada dataset\n",
    "\n",
    "df = sns.load_dataset(\"titanic\")\n",
    "\n",
    "X = df[['pclass', 'sex', 'age', 'sibsp', 'parch', 'fare']]\n",
    "y = df['survived']\n",
    "\n",
    "X = pd.get_dummies(X, columns=['sex'])\n",
    "X.age.fillna(value= X['age'].mean(), inplace=True)"
   ]
  },
  {
   "cell_type": "code",
   "execution_count": null,
   "metadata": {},
   "outputs": [],
   "source": [
    "# import models\n",
    "from sklearn.linear_model import LogisticRegression\n",
    "from sklearn.svm import SVC\n",
    "from sklearn.tree import DecisionTreeClassifier\n",
    "from sklearn.ensemble import RandomForestClassifier\n",
    "from sklearn.neighbors import KNeighborsClassifier\n",
    "from sklearn.metrics import accuracy_score, precision_score, recall_score, f1_score\n",
    "from sklearn.model_selection import train_test_split"
   ]
  },
  {
   "cell_type": "code",
   "execution_count": 9,
   "metadata": {},
   "outputs": [
    {
     "name": "stdout",
     "output_type": "stream",
     "text": [
      "Accuracy Scores:  Logistic Regression : 0.81\n",
      "Accuracy Scores:  Random Forest : 0.80\n",
      "Accuracy Scores:  Decision Tree : 0.77\n",
      "Accuracy Scores:  KNN : 0.69\n",
      "Accuracy Scores:  SVM : 0.66\n"
     ]
    }
   ],
   "source": [
    "# model train\n",
    "X_train, X_test, y_train, y_test = train_test_split(X, y, test_size=0.2, random_state=42)\n",
    "\n",
    "\n",
    "# check based on accuracy score\n",
    "models = [LogisticRegression(), SVC(), DecisionTreeClassifier(), RandomForestClassifier(), KNeighborsClassifier()]\n",
    "model_names = ['Logistic Regression', 'SVM', 'Decision Tree', 'Random Forest', 'KNN']\n",
    "\n",
    "models_scores = []\n",
    "for model, model_name in zip(models, model_names):\n",
    "    model.fit(X_train, y_train)\n",
    "    y_pred = model.predict(X_test)\n",
    "    accurracy = accuracy_score(y_test, y_pred)\n",
    "    models_scores.append([model_name,accurracy])\n",
    "\n",
    "sorted_models = sorted(models_scores, key=lambda x: x[1], reverse=True)\n",
    "for model in sorted_models:\n",
    "    print(\"Accuracy Scores: \", f'{model[0]} : {model[1]:.2f}')"
   ]
  },
  {
   "cell_type": "code",
   "execution_count": 10,
   "metadata": {},
   "outputs": [
    {
     "name": "stdout",
     "output_type": "stream",
     "text": [
      "Accuracy Scores:  Logistic Regression : 0.80\n",
      "Accuracy Scores:  Random Forest : 0.79\n",
      "Accuracy Scores:  SVM : 0.76\n",
      "Accuracy Scores:  Decision Tree : 0.73\n",
      "Accuracy Scores:  KNN : 0.66\n"
     ]
    }
   ],
   "source": [
    "# check based on precission score\n",
    "models = [LogisticRegression(), SVC(), DecisionTreeClassifier(), RandomForestClassifier(), KNeighborsClassifier()]\n",
    "model_names = ['Logistic Regression', 'SVM', 'Decision Tree', 'Random Forest', 'KNN']\n",
    "\n",
    "models_scores = []\n",
    "for model, model_name in zip(models, model_names):\n",
    "    model.fit(X_train, y_train)\n",
    "    y_pred = model.predict(X_test)\n",
    "    Precission = precision_score(y_test, y_pred)\n",
    "    models_scores.append([model_name,Precission])\n",
    "\n",
    "sorted_models = sorted(models_scores, key=lambda x: x[1], reverse=True)\n",
    "for model in sorted_models:\n",
    "    print(\"Accuracy Scores: \", f'{model[0]} : {model[1]:.2f}')"
   ]
  },
  {
   "cell_type": "code",
   "execution_count": 13,
   "metadata": {},
   "outputs": [
    {
     "name": "stdout",
     "output_type": "stream",
     "text": [
      "Accuracy Scores:  Logistic Regression : 0.72\n",
      "Accuracy Scores:  Random Forest : 0.72\n",
      "Accuracy Scores:  Decision Tree : 0.70\n",
      "Accuracy Scores:  KNN : 0.54\n",
      "Accuracy Scores:  SVM : 0.26\n"
     ]
    }
   ],
   "source": [
    "# check based on recall score\n",
    "models = [LogisticRegression(), SVC(), DecisionTreeClassifier(), RandomForestClassifier(), KNeighborsClassifier()]\n",
    "model_names = ['Logistic Regression', 'SVM', 'Decision Tree', 'Random Forest', 'KNN']\n",
    "\n",
    "models_scores = []\n",
    "for model, model_name in zip(models, model_names):\n",
    "    model.fit(X_train, y_train)\n",
    "    y_pred = model.predict(X_test)\n",
    "    Recall = recall_score(y_test, y_pred)\n",
    "    models_scores.append([model_name,Recall])\n",
    "\n",
    "sorted_models = sorted(models_scores, key=lambda x: x[1], reverse=True)\n",
    "for model in sorted_models:\n",
    "    print(\"Accuracy Scores: \", f'{model[0]} : {model[1]:.2f}')"
   ]
  },
  {
   "cell_type": "code",
   "execution_count": 14,
   "metadata": {},
   "outputs": [
    {
     "name": "stdout",
     "output_type": "stream",
     "text": [
      "Accuracy Scores:  Logistic Regression : 0.76\n",
      "Accuracy Scores:  Random Forest : 0.75\n",
      "Accuracy Scores:  Decision Tree : 0.72\n",
      "Accuracy Scores:  KNN : 0.59\n",
      "Accuracy Scores:  SVM : 0.38\n"
     ]
    }
   ],
   "source": [
    "# check based on f1 score\n",
    "models = [LogisticRegression(), SVC(), DecisionTreeClassifier(), RandomForestClassifier(), KNeighborsClassifier()]\n",
    "model_names = ['Logistic Regression', 'SVM', 'Decision Tree', 'Random Forest', 'KNN']\n",
    "\n",
    "models_scores = []\n",
    "for model, model_name in zip(models, model_names):\n",
    "    model.fit(X_train, y_train)\n",
    "    y_pred = model.predict(X_test)\n",
    "    f1 = f1_score(y_test, y_pred)\n",
    "    models_scores.append([model_name,f1])\n",
    "\n",
    "sorted_models = sorted(models_scores, key=lambda x: x[1], reverse=True)\n",
    "for model in sorted_models:\n",
    "    print(\"Accuracy Scores: \", f'{model[0]} : {model[1]:.2f}')"
   ]
  }
 ],
 "metadata": {
  "kernelspec": {
   "display_name": "Python 3",
   "language": "python",
   "name": "python3"
  },
  "language_info": {
   "codemirror_mode": {
    "name": "ipython",
    "version": 3
   },
   "file_extension": ".py",
   "mimetype": "text/x-python",
   "name": "python",
   "nbconvert_exporter": "python",
   "pygments_lexer": "ipython3",
   "version": "3.13.2"
  }
 },
 "nbformat": 4,
 "nbformat_minor": 2
}
