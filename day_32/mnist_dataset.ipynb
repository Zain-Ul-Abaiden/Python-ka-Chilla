{
 "cells": [
  {
   "cell_type": "code",
   "execution_count": 2,
   "metadata": {},
   "outputs": [],
   "source": [
    "import tensorflow as tf"
   ]
  },
  {
   "cell_type": "code",
   "execution_count": 3,
   "metadata": {},
   "outputs": [],
   "source": [
    "fashion_mnist = tf.keras.datasets.fashion_mnist\n",
    "(train_images, train_labels), (test_images, test_labels) = fashion_mnist.load_data()"
   ]
  },
  {
   "cell_type": "code",
   "execution_count": 5,
   "metadata": {},
   "outputs": [],
   "source": [
    "(X_train, y_train), (X_test, y_test) = fashion_mnist.load_data()\n",
    "assert X_train.shape == (60000, 28, 28)\n",
    "assert X_test.shape == (10000, 28, 28)\n",
    "assert y_train.shape == (60000,)\n",
    "assert y_test.shape == (10000,)"
   ]
  },
  {
   "cell_type": "code",
   "execution_count": 6,
   "metadata": {},
   "outputs": [
    {
     "name": "stdout",
     "output_type": "stream",
     "text": [
      "Train: X=(60000, 28, 28) , y=(60000,)\n",
      "Test: X=(10000, 28, 28) , y=(10000,)\n"
     ]
    }
   ],
   "source": [
    "# Summarize loaded dataset\n",
    "print('Train: X=%s , y=%s' % (X_train.shape, y_train.shape))\n",
    "print('Test: X=%s , y=%s' % (X_test.shape, y_test.shape))"
   ]
  },
  {
   "cell_type": "code",
   "execution_count": 7,
   "metadata": {},
   "outputs": [
    {
     "data": {
      "image/png": "[encoded data removed]",
      "text/plain": [
       "<Figure size 640x480 with 9 Axes>"
      ]
     },
     "metadata": {},
     "output_type": "display_data"
    }
   ],
   "source": [
    "# plot first few images\n",
    "import matplotlib.pyplot as plt\n",
    "\n",
    "for i in range(9):\n",
    "    # definen subplot\n",
    "    plt.subplot(330 + 1 + i)\n",
    "    # plot raw pixel data\n",
    "    plt.imshow(X_train[i], cmap=plt.get_cmap('gray'))\n",
    "# show the figure\n",
    "plt.show()"
   ]
  },
  {
   "cell_type": "code",
   "execution_count": 8,
   "metadata": {},
   "outputs": [],
   "source": [
    "# Preprocess the data\n",
    "X_train = X_train/ 255.0\n",
    "X_test = X_test/ 255.0"
   ]
  },
  {
   "cell_type": "code",
   "execution_count": 17,
   "metadata": {},
   "outputs": [],
   "source": [
    "model = tf.keras.models.Sequential([\n",
    "    tf.keras.layers.Flatten(input_shape=(28, 28)),\n",
    "    tf.keras.layers.Dense(128, activation='relu'),\n",
    "    tf.keras.layers.Dense(10, activation='softmax')\n",
    "])"
   ]
  },
  {
   "cell_type": "code",
   "execution_count": 18,
   "metadata": {},
   "outputs": [],
   "source": [
    "# compile the model\n",
    "model.compile(optimizer='adam',\n",
    "              loss='sparse_categorical_crossentropy',\n",
    "              metrics=['accuracy'])"
   ]
  },
  {
   "cell_type": "code",
   "execution_count": 19,
   "metadata": {},
   "outputs": [
    {
     "name": "stdout",
     "output_type": "stream",
     "text": [
      "Epoch 1/5\n",
      "\u001b[1m1875/1875\u001b[0m \u001b[32m━━━━━━━━━━━━━━━━━━━━\u001b[0m\u001b[37m\u001b[0m \u001b[1m6s\u001b[0m 3ms/step - accuracy: 0.7822 - loss: 0.6336\n",
      "Epoch 2/5\n",
      "\u001b[1m1875/1875\u001b[0m \u001b[32m━━━━━━━━━━━━━━━━━━━━\u001b[0m\u001b[37m\u001b[0m \u001b[1m5s\u001b[0m 2ms/step - accuracy: 0.8605 - loss: 0.3873\n",
      "Epoch 3/5\n",
      "\u001b[1m1875/1875\u001b[0m \u001b[32m━━━━━━━━━━━━━━━━━━━━\u001b[0m\u001b[37m\u001b[0m \u001b[1m5s\u001b[0m 3ms/step - accuracy: 0.8772 - loss: 0.3403\n",
      "Epoch 4/5\n",
      "\u001b[1m1875/1875\u001b[0m \u001b[32m━━━━━━━━━━━━━━━━━━━━\u001b[0m\u001b[37m\u001b[0m \u001b[1m5s\u001b[0m 3ms/step - accuracy: 0.8836 - loss: 0.3150\n",
      "Epoch 5/5\n",
      "\u001b[1m1875/1875\u001b[0m \u001b[32m━━━━━━━━━━━━━━━━━━━━\u001b[0m\u001b[37m\u001b[0m \u001b[1m5s\u001b[0m 3ms/step - accuracy: 0.8909 - loss: 0.2930\n"
     ]
    },
    {
     "data": {
      "text/plain": [
       "<keras.src.callbacks.history.History at 0x13f0086bcd0>"
      ]
     },
     "execution_count": 19,
     "metadata": {},
     "output_type": "execute_result"
    }
   ],
   "source": [
    "# Train the model\n",
    "model.fit(X_train, y_train, epochs=5)"
   ]
  },
  {
   "cell_type": "code",
   "execution_count": 20,
   "metadata": {},
   "outputs": [
    {
     "name": "stdout",
     "output_type": "stream",
     "text": [
      "\u001b[1m313/313\u001b[0m \u001b[32m━━━━━━━━━━━━━━━━━━━━\u001b[0m\u001b[37m\u001b[0m \u001b[1m1s\u001b[0m 2ms/step - accuracy: 0.8725 - loss: 0.3570\n",
      "Test accuracy: 0.8711000084877014\n"
     ]
    }
   ],
   "source": [
    "# Evaluate the model \n",
    "test_loss, test_acc = model.evaluate(X_test, y_test)\n",
    "print('Test accuracy:', test_acc)"
   ]
  },
  {
   "cell_type": "code",
   "execution_count": 22,
   "metadata": {},
   "outputs": [
    {
     "name": "stdout",
     "output_type": "stream",
     "text": [
      "\u001b[1m313/313\u001b[0m \u001b[32m━━━━━━━━━━━━━━━━━━━━\u001b[0m\u001b[37m\u001b[0m \u001b[1m1s\u001b[0m 2ms/step\n",
      "(10000, 10)\n",
      "[[3.93665641e-06 8.51226503e-08 1.23048380e-07 3.03678611e-08\n",
      "  1.25739632e-06 3.74195212e-03 2.35004281e-05 9.45677906e-02\n",
      "  2.64103164e-06 9.01658714e-01]\n",
      " [8.34528328e-06 3.69223124e-11 9.97390568e-01 9.26437771e-09\n",
      "  8.45113886e-04 1.61497953e-12 1.75596133e-03 5.52303734e-14\n",
      "  1.37904088e-08 3.94843223e-14]\n",
      " [1.50538657e-08 1.00000000e+00 6.04210224e-11 2.87047488e-08\n",
      "  1.61237468e-09 6.54179766e-15 1.14721954e-10 2.34357059e-18\n",
      "  3.85608323e-10 4.51232556e-16]\n",
      " [9.72192211e-08 9.99975324e-01 1.57027085e-08 2.43633931e-05\n",
      "  2.51116603e-07 2.74859302e-12 1.58486113e-08 1.07403312e-15\n",
      "  5.33223077e-10 2.22588267e-12]\n",
      " [2.46680215e-01 3.47970763e-06 7.01417401e-02 1.13049867e-02\n",
      "  8.92581046e-03 1.92748790e-04 6.61006391e-01 1.87442711e-05\n",
      "  1.70701591e-03 1.88779377e-05]\n",
      " [3.48394533e-05 9.99961853e-01 4.32304887e-07 5.60294609e-07\n",
      "  4.25588013e-07 9.96274591e-12 1.77617255e-06 4.08673339e-14\n",
      "  1.96176249e-08 6.66929359e-12]\n",
      " [3.13203869e-04 1.06667949e-05 4.46478650e-02 2.06203127e-04\n",
      "  9.04101074e-01 1.73000774e-06 5.06410301e-02 3.52515972e-09\n",
      "  7.82302814e-05 1.95712802e-09]\n",
      " [1.22450174e-05 1.11070895e-08 1.37003849e-03 3.74129486e-05\n",
      "  1.87089089e-02 2.77106068e-07 9.79868352e-01 6.47374154e-09\n",
      "  2.66962820e-06 1.69325389e-08]\n",
      " [2.53633829e-04 1.18463104e-05 2.33720493e-05 5.77859737e-06\n",
      "  1.17710370e-05 9.98448849e-01 2.78046155e-05 9.96315735e-04\n",
      "  1.91748128e-04 2.88941428e-05]\n",
      " [6.29870897e-07 5.13960060e-07 6.13138873e-09 2.50655585e-08\n",
      "  3.49681528e-08 3.36957572e-04 7.08475625e-08 9.98878062e-01\n",
      "  7.70387123e-06 7.75992638e-04]]\n",
      "[<tf.Tensor: shape=(), dtype=int64, numpy=9>, <tf.Tensor: shape=(), dtype=int64, numpy=2>, <tf.Tensor: shape=(), dtype=int64, numpy=1>, <tf.Tensor: shape=(), dtype=int64, numpy=1>, <tf.Tensor: shape=(), dtype=int64, numpy=6>, <tf.Tensor: shape=(), dtype=int64, numpy=1>, <tf.Tensor: shape=(), dtype=int64, numpy=4>, <tf.Tensor: shape=(), dtype=int64, numpy=6>, <tf.Tensor: shape=(), dtype=int64, numpy=5>, <tf.Tensor: shape=(), dtype=int64, numpy=7>]\n"
     ]
    }
   ],
   "source": [
    "# Make predictions with the model\n",
    "predictions = model.predict(X_test)\n",
    "\n",
    "# Print shape of predictions array\n",
    "print(predictions.shape)\n",
    "\n",
    "# Print first 10 prediction\n",
    "print(predictions[:10])\n",
    "\n",
    "# Convert predictions to class labels\n",
    "class_labels = [tf.argmax(prediction) for prediction in predictions]\n",
    "\n",
    "# Print first 10 class labels\n",
    "print(class_labels[:10])"
   ]
  },
  {
   "cell_type": "code",
   "execution_count": null,
   "metadata": {},
   "outputs": [],
   "source": []
  }
 ],
 "metadata": {
  "kernelspec": {
   "display_name": "tf_env",
   "language": "python",
   "name": "python3"
  },
  "language_info": {
   "codemirror_mode": {
    "name": "ipython",
    "version": 3
   },
   "file_extension": ".py",
   "mimetype": "text/x-python",
   "name": "python",
   "nbconvert_exporter": "python",
   "pygments_lexer": "ipython3",
   "version": "3.9.21"
  }
 },
 "nbformat": 4,
 "nbformat_minor": 2
}
