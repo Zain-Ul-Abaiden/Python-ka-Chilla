{
 "cells": [
  {
   "cell_type": "markdown",
   "metadata": {},
   "source": [
    "**Subject of Code**\\\n",
    "Authorised by: Zain Ul Abaiden\\\n",
    "You can connect me on:\\\n",
    " [LinkedIn](https://www.linkedin.com/in/zainulabaiden)\n",
    "[Github](https://github.com/Zain-Ul-Abaiden)"
   ]
  },
  {
   "cell_type": "markdown",
   "metadata": {},
   "source": [
    "code ko seprate krny k liay ipynb file ko use krty hai"
   ]
  },
  {
   "cell_type": "markdown",
   "metadata": {},
   "source": [
    "markdown cell headings ya notes k liay istemal krty hai"
   ]
  },
  {
   "cell_type": "code",
   "execution_count": null,
   "metadata": {},
   "outputs": [
    {
     "name": "stdout",
     "output_type": "stream",
     "text": [
      "zain\n"
     ]
    },
    {
     "data": {
      "text/plain": [
       "10"
      ]
     },
     "execution_count": 1,
     "metadata": {},
     "output_type": "execute_result"
    }
   ],
   "source": [
    "# simple input variables\n",
    "\n",
    "name = \"zain\"\n",
    "print(name)\n",
    "4+6\n"
   ]
  },
  {
   "cell_type": "markdown",
   "metadata": {},
   "source": [
    "## heading banany k liay start mai hastag use krty hai"
   ]
  },
  {
   "cell_type": "code",
   "execution_count": null,
   "metadata": {},
   "outputs": [
    {
     "name": "stdout",
     "output_type": "stream",
     "text": [
      "Good Morning, zain\n"
     ]
    }
   ],
   "source": [
    "# advance input variables\n",
    "greetings = \"Good Morning,\"\n",
    "print(greetings, name)"
   ]
  },
  {
   "cell_type": "markdown",
   "metadata": {},
   "source": [
    "*italic k liay 1 starik* or **bold k liay 2 staric use krty hai** start or shorow mai"
   ]
  },
  {
   "cell_type": "code",
   "execution_count": null,
   "metadata": {},
   "outputs": [
    {
     "name": "stdout",
     "output_type": "stream",
     "text": [
      "Nice to meet you zain , you are 23 years old.\n"
     ]
    }
   ],
   "source": [
    "# advance input variables with multiple inputs\n",
    "\n",
    "age = int(input(\"How old are you? \"))\n",
    "\n",
    "print(\"Nice to meet you\", name, \", you are\", age, \"years old.\")"
   ]
  }
 ],
 "metadata": {
  "kernelspec": {
   "display_name": "Python 3",
   "language": "python",
   "name": "python3"
  },
  "language_info": {
   "codemirror_mode": {
    "name": "ipython",
    "version": 3
   },
   "file_extension": ".py",
   "mimetype": "text/x-python",
   "name": "python",
   "nbconvert_exporter": "python",
   "pygments_lexer": "ipython3",
   "version": "3.13.2"
  }
 },
 "nbformat": 4,
 "nbformat_minor": 2
}
